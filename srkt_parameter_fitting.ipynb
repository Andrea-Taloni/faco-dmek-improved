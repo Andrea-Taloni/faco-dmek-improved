{
 "cells": [
  {
   "cell_type": "markdown",
   "id": "71ae8005",
   "metadata": {},
   "source": [
    "\n",
    "# SRK/T Parameter‑Fitting Notebook 🇮🇹\n",
    "\n",
    "Questo notebook calcola **MAE** e **RMSE** della formula SRK/T “pura” sui dati\n",
    "del foglio *Data* e poi ottimizza l’indice cheratometrico `n_k` e,\n",
    "facoltativamente, l’indice corneale `n_e`, per ridurre l’errore.\n"
   ]
  },
  {
   "cell_type": "code",
   "execution_count": null,
   "id": "d57128e4",
   "metadata": {},
   "outputs": [],
   "source": [
    "import pandas as pd\n",
    "\n",
    "# se notebook e file xlsx sono nello stesso folder\n",
    "xls_path = 'FacoDMEK.xlsx'        # <-- percorso relativo\n",
    "\n",
    "# apri il file e mostra i nomi dei fogli per sicurezza\n",
    "xls = pd.ExcelFile(xls_path)\n",
    "print('Fogli disponibili:', xls.sheet_names)\n",
    "\n",
    "# carica il foglio “Data” (rispetta maiuscole/minuscole)\n",
    "df = pd.read_excel(xls, sheet_name='Data')\n",
    "print(f'Dataset shape: {df.shape}')\n",
    "df.head()\n"
   ]
  },
  {
   "cell_type": "code",
   "execution_count": null,
   "id": "77193a36",
   "metadata": {},
   "outputs": [],
   "source": [
    "\n",
    "import numpy as np\n",
    "\n",
    "def srkt_predict(row, n_k=1.3375, n_e=1.333, n_a=1.336,\n",
    "                 lcor_coeff=(3.446, 1.716, -0.0237),\n",
    "                 cw_coeff=(-5.41, 0.58412, 0.098),\n",
    "                 rethick_coeff=(0.65696, -0.02029),\n",
    "                 offset_base=3.336, V=12.0):\n",
    "    # --- inputs ---\n",
    "    AL = row['Bio-AL']\n",
    "    K1 = row['Bio-Ks']\n",
    "    K2 = row['Bio-Kf']\n",
    "    K = (K1 + K2) / 2.0  # mean K\n",
    "    r = 337.5 / K        # anterior corneal radius\n",
    "    \n",
    "    # --- LCOR ---\n",
    "    if AL <= 24.4:\n",
    "        LCOR = AL\n",
    "    else:\n",
    "        a0, a1, a2 = lcor_coeff\n",
    "        LCOR = a0 + a1 * AL + a2 * AL ** 2\n",
    "    \n",
    "    # --- Cw & H ---\n",
    "    c0, c1, c2 = cw_coeff\n",
    "    Cw = c0 + c1 * LCOR + c2 * K\n",
    "    H  = r - np.sqrt(max(r**2 - (Cw**2)/4, 0))\n",
    "    \n",
    "    # --- ACD_est ---\n",
    "    Aconst = row['A-Constant']\n",
    "    ACD_const = 0.62467 * Aconst - 68.747\n",
    "    offset = ACD_const - offset_base\n",
    "    ACD_est = H + offset\n",
    "    \n",
    "    # --- RETHICK & LOPT ---\n",
    "    r0, r1 = rethick_coeff\n",
    "    RETHICK = r0 + r1 * AL\n",
    "    LOPT = AL + RETHICK\n",
    "    \n",
    "    # --- thin‑lens equation ---\n",
    "    ncml = n_e - 1.0\n",
    "    num = 1000 * n_a * (n_a * r - ncml * LOPT)\n",
    "    den = (V * (n_a * r - ncml * LOPT) + LOPT * r)\n",
    "    pred_SE = num / den -               row['IOL Power'] * (LOPT - ACD_est) * (n_a * r - ncml * ACD_est) /               (n_a * (V * (n_a * r - ncml * ACD_est) + ACD_est * r))\n",
    "    return pred_SE\n"
   ]
  },
  {
   "cell_type": "markdown",
   "id": "35c7ba95",
   "metadata": {},
   "source": [
    "## Baseline SRK/T"
   ]
  },
  {
   "cell_type": "code",
   "execution_count": null,
   "id": "a273f79d",
   "metadata": {},
   "outputs": [],
   "source": [
    "\n",
    "from sklearn.metrics import mean_absolute_error, mean_squared_error\n",
    "import numpy as np\n",
    "\n",
    "df['SE_pred'] = df.apply(srkt_predict, axis=1)\n",
    "residuals = df['PostOP Spherical Equivalent'] - df['SE_pred']\n",
    "baseline_mae  = mean_absolute_error(df['PostOP Spherical Equivalent'], df['SE_pred'])\n",
    "baseline_rmse = np.sqrt(mean_squared_error(df['PostOP Spherical Equivalent'], df['SE_pred']))\n",
    "\n",
    "print(f'Baseline MAE  : {baseline_mae:.3f} D')\n",
    "print(f'Baseline RMSE : {baseline_rmse:.3f} D')\n"
   ]
  },
  {
   "cell_type": "markdown",
   "id": "8d8ed1b6",
   "metadata": {},
   "source": [
    "## Ottimizzazione n_k e n_e"
   ]
  },
  {
   "cell_type": "code",
   "execution_count": null,
   "id": "e8387e91",
   "metadata": {},
   "outputs": [],
   "source": [
    "\n",
    "from scipy.optimize import minimize\n",
    "\n",
    "def objective(theta):\n",
    "    n_k, n_e = theta\n",
    "    preds = df.apply(srkt_predict, axis=1, args=(n_k, n_e))\n",
    "    return mean_squared_error(df['PostOP Spherical Equivalent'], preds)\n",
    "\n",
    "# bounds: (1.330,1.345) for both\n",
    "res = minimize(objective, x0=[1.3375, 1.333], bounds=[(1.33,1.345),(1.33,1.337)])\n",
    "best_nk, best_ne = res.x\n",
    "print(f'Optimal n_k: {best_nk:.5f}, Optimal n_e: {best_ne:.5f}')\n",
    "\n",
    "df['SE_opt'] = df.apply(srkt_predict, axis=1, args=(best_nk,best_ne))\n",
    "opt_mae  = mean_absolute_error(df['PostOP Spherical Equivalent'], df['SE_opt'])\n",
    "opt_rmse = np.sqrt(mean_squared_error(df['PostOP Spherical Equivalent'], df['SE_opt']))\n",
    "print(f'Optimized MAE : {opt_mae:.3f} D')\n",
    "print(f'Optimized RMSE: {opt_rmse:.3f} D')\n"
   ]
  }
 ],
 "metadata": {
  "kernelspec": {
   "display_name": "Python 3",
   "language": "python",
   "name": "python3"
  },
  "language_info": {
   "codemirror_mode": {
    "name": "ipython",
    "version": 3
   },
   "file_extension": ".py",
   "mimetype": "text/x-python",
   "name": "python",
   "nbconvert_exporter": "python",
   "pygments_lexer": "ipython3",
   "version": "3.12.6"
  }
 },
 "nbformat": 4,
 "nbformat_minor": 5
}
