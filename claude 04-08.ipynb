{
 "cells": [
  {
   "cell_type": "code",
   "execution_count": 1,
   "id": "73445cdb",
   "metadata": {},
   "outputs": [
    {
     "name": "stdout",
     "output_type": "stream",
     "text": [
      "Numero totale di pazienti: 96\n",
      "\n",
      "Numero di colonne: 29\n"
     ]
    }
   ],
   "source": [
    "import pandas as pd\n",
    "import numpy as np\n",
    "\n",
    "# Carichiamo il file Excel\n",
    "df = pd.read_excel('FacoDMEK.xlsx', sheet_name='Data')\n",
    "\n",
    "# Vediamo cosa c'è dentro\n",
    "print(f\"Numero totale di pazienti: {len(df)}\")\n",
    "print(f\"\\nNumero di colonne: {len(df.columns)}\")"
   ]
  },
  {
   "cell_type": "code",
   "execution_count": 2,
   "id": "282364eb",
   "metadata": {},
   "outputs": [
    {
     "name": "stdout",
     "output_type": "stream",
     "text": [
      "✓ Bio-AL trovata\n",
      "✓ Bio-Ks trovata\n",
      "✓ Bio-Kf trovata\n",
      "✓ IOL Power trovata\n",
      "✓ A-Constant trovata\n",
      "✓ PostOP Spherical Equivalent trovata\n",
      "\n",
      "Esempio dei primi 3 pazienti:\n",
      "   Bio-AL  Bio-Ks  Bio-Kf  IOL Power  A-Constant  PostOP Spherical Equivalent\n",
      "0   26.40   44.00   43.50       15.5       119.1                       -3.875\n",
      "1   23.59   49.41   46.68       15.0       118.4                       -3.125\n",
      "2   23.25   45.67   45.30       22.5       120.2                       -3.000\n"
     ]
    }
   ],
   "source": [
    "# Colonne necessarie per la formula SRK/T\n",
    "colonne_necessarie = ['Bio-AL', 'Bio-Ks', 'Bio-Kf', 'IOL Power', 'A-Constant', 'PostOP Spherical Equivalent']\n",
    "\n",
    "# Verifichiamo che ci siano tutte\n",
    "for col in colonne_necessarie:\n",
    "    if col in df.columns:\n",
    "        print(f\"✓ {col} trovata\")\n",
    "    else:\n",
    "        print(f\"✗ {col} NON TROVATA!\")\n",
    "\n",
    "# Vediamo un esempio di dati\n",
    "print(\"\\nEsempio dei primi 3 pazienti:\")\n",
    "print(df[colonne_necessarie].head(3))"
   ]
  },
  {
   "cell_type": "code",
   "execution_count": 3,
   "id": "15b0c728",
   "metadata": {},
   "outputs": [
    {
     "name": "stdout",
     "output_type": "stream",
     "text": [
      "K medio per i primi 5 pazienti:\n",
      "   Bio-Ks  Bio-Kf   K_avg\n",
      "0   44.00   43.50  43.750\n",
      "1   49.41   46.68  48.045\n",
      "2   45.67   45.30  45.485\n",
      "3   44.23   43.38  43.805\n",
      "4   47.70   44.60  46.150\n",
      "\n",
      "Statistiche K medio:\n",
      "Minimo: 39.17 D\n",
      "Massimo: 48.05 D\n",
      "Media: 43.44 D\n"
     ]
    }
   ],
   "source": [
    "# Calcolo del K medio\n",
    "df['K_avg'] = (df['Bio-Ks'] + df['Bio-Kf']) / 2\n",
    "\n",
    "# Vediamo cosa abbiamo calcolato\n",
    "print(\"K medio per i primi 5 pazienti:\")\n",
    "print(df[['Bio-Ks', 'Bio-Kf', 'K_avg']].head())\n",
    "\n",
    "# Statistiche del K medio\n",
    "print(f\"\\nStatistiche K medio:\")\n",
    "print(f\"Minimo: {df['K_avg'].min():.2f} D\")\n",
    "print(f\"Massimo: {df['K_avg'].max():.2f} D\") \n",
    "print(f\"Media: {df['K_avg'].mean():.2f} D\")"
   ]
  },
  {
   "cell_type": "code",
   "execution_count": 4,
   "id": "90c32596",
   "metadata": {},
   "outputs": [
    {
     "name": "stdout",
     "output_type": "stream",
     "text": [
      "RISULTATI SRK/T (solo pazienti validi):\n",
      "==================================================\n",
      "Pazienti validi: 67 su 96 totali\n",
      "Pazienti esclusi (NaN): 29\n",
      "\n",
      "MAE (Mean Absolute Error): 1.274 D\n",
      "Errore medio: 0.165 D\n",
      "Deviazione standard: 1.762 D\n"
     ]
    },
    {
     "name": "stderr",
     "output_type": "stream",
     "text": [
      "C:\\Users\\offic\\AppData\\Local\\Temp\\ipykernel_24872\\879622920.py:26: RuntimeWarning: invalid value encountered in sqrt\n",
      "  H = r - np.sqrt(r * r - (Cw * Cw / 4))  # Darà NaN se negativo\n"
     ]
    }
   ],
   "source": [
    "def calcola_refrazione_srkt(AL, K_avg, IOL_power, A_constant):\n",
    "    \"\"\"\n",
    "    Formula SRK/T ORIGINALE - senza correzione per imaginary ACD\n",
    "    Restituirà NaN per alcuni pazienti\n",
    "    \"\"\"\n",
    "    \n",
    "    # COSTANTI\n",
    "    na = 1.336   \n",
    "    nc = 1.333   \n",
    "    ncm1 = 0.333 \n",
    "    V = 12       \n",
    "    \n",
    "    # STEP 1: Raggio corneale\n",
    "    r = 337.5 / K_avg\n",
    "    \n",
    "    # STEP 2: Lunghezza assiale corretta\n",
    "    if AL <= 24.2:\n",
    "        LCOR = AL  \n",
    "    else:\n",
    "        LCOR = 3.446 + 1.716 * AL - 0.0237 * AL * AL  \n",
    "    \n",
    "    # STEP 3: Larghezza corneale\n",
    "    Cw = -5.41 + 0.58412 * LCOR + 0.098 * K_avg\n",
    "    \n",
    "    # STEP 4: Altezza corneale (SENZA correzione)\n",
    "    H = r - np.sqrt(r * r - (Cw * Cw / 4))  # Darà NaN se negativo\n",
    "    \n",
    "    # STEP 5-8: Resto del calcolo\n",
    "    ACD_const = 0.62467 * A_constant - 68.747\n",
    "    offset = ACD_const - 3.336\n",
    "    ACD_est = H + offset\n",
    "    \n",
    "    RETHICK = 0.65696 - 0.02029 * AL\n",
    "    LOPT = AL + RETHICK\n",
    "    \n",
    "    numeratore = (1000 * na * (na * r - ncm1 * LOPT) - \n",
    "                  IOL_power * (LOPT - ACD_est) * (na * r - ncm1 * ACD_est))\n",
    "    \n",
    "    denominatore = (na * (V * (na * r - ncm1 * LOPT) + LOPT * r) - \n",
    "                    0.001 * IOL_power * (LOPT - ACD_est) * \n",
    "                    (V * (na * r - ncm1 * ACD_est) + ACD_est * r))\n",
    "    \n",
    "    return numeratore / denominatore\n",
    "\n",
    "# Applica la formula originale\n",
    "df['Refrazione_Prevista_SRKT'] = df.apply(\n",
    "    lambda row: calcola_refrazione_srkt(\n",
    "        AL=row['Bio-AL'], \n",
    "        K_avg=row['K_avg'], \n",
    "        IOL_power=row['IOL Power'], \n",
    "        A_constant=row['A-Constant']\n",
    "    ), \n",
    "    axis=1\n",
    ")\n",
    "\n",
    "# Calcola errori SOLO per i pazienti validi (no NaN)\n",
    "validi = df['Refrazione_Prevista_SRKT'].notna()\n",
    "df_validi = df[validi].copy()\n",
    "\n",
    "df_validi['Errore_Predizione'] = df_validi['PostOP Spherical Equivalent'] - df_validi['Refrazione_Prevista_SRKT']\n",
    "df_validi['Errore_Assoluto'] = abs(df_validi['Errore_Predizione'])\n",
    "\n",
    "# Risultati\n",
    "print(f\"RISULTATI SRK/T (solo pazienti validi):\")\n",
    "print(\"=\"*50)\n",
    "print(f\"Pazienti validi: {len(df_validi)} su {len(df)} totali\")\n",
    "print(f\"Pazienti esclusi (NaN): {len(df) - len(df_validi)}\")\n",
    "print(f\"\\nMAE (Mean Absolute Error): {df_validi['Errore_Assoluto'].mean():.3f} D\")\n",
    "print(f\"Errore medio: {df_validi['Errore_Predizione'].mean():.3f} D\")\n",
    "print(f\"Deviazione standard: {df_validi['Errore_Predizione'].std():.3f} D\")"
   ]
  },
  {
   "cell_type": "markdown",
   "id": "1467e4de",
   "metadata": {},
   "source": [
    "Ora ho bisogno di trovare indici refrattivi e cheratometrici ottimizzati e poi di usare machine learning per altre variabili. poi va provato con diversi semi"
   ]
  }
 ],
 "metadata": {
  "kernelspec": {
   "display_name": "Python 3",
   "language": "python",
   "name": "python3"
  },
  "language_info": {
   "codemirror_mode": {
    "name": "ipython",
    "version": 3
   },
   "file_extension": ".py",
   "mimetype": "text/x-python",
   "name": "python",
   "nbconvert_exporter": "python",
   "pygments_lexer": "ipython3",
   "version": "3.12.6"
  }
 },
 "nbformat": 4,
 "nbformat_minor": 5
}
